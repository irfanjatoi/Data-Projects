{
 "cells": [
  {
   "cell_type": "code",
   "execution_count": 7,
   "id": "e4d04f0c-588e-4bde-bae8-49539c961358",
   "metadata": {},
   "outputs": [],
   "source": [
    "from bs4 import BeautifulSoup as bs\n",
    "import requests"
   ]
  },
  {
   "cell_type": "code",
   "execution_count": 8,
   "id": "0b23ee44-2e8c-45c5-a05f-1f8296aa9644",
   "metadata": {},
   "outputs": [],
   "source": [
    "r = requests.get('https://keithgalli.github.io/web-scraping/example.html')\n",
    "\n",
    "soup = bs(r.content)"
   ]
  },
  {
   "cell_type": "code",
   "execution_count": 16,
   "id": "8db39162-34b7-4b23-98c1-856ef6bb72e3",
   "metadata": {},
   "outputs": [
    {
     "data": {
      "text/plain": [
       "[<h2>A Header</h2>, <h2>Another header</h2>]"
      ]
     },
     "execution_count": 16,
     "metadata": {},
     "output_type": "execute_result"
    }
   ],
   "source": [
    "first_header = soup.find(\"h2\")\n",
    "\n",
    "headers = soup.find_all(\"h2\")\n",
    "\n",
    "headers\n"
   ]
  },
  {
   "cell_type": "code",
   "execution_count": 17,
   "id": "2fb9271c-f027-46ea-809c-d335fb74388d",
   "metadata": {},
   "outputs": [
    {
     "data": {
      "text/plain": [
       "<h1>HTML Webpage</h1>"
      ]
     },
     "execution_count": 17,
     "metadata": {},
     "output_type": "execute_result"
    }
   ],
   "source": [
    "# Pass in a list of elements to look for\n",
    "first_header = soup.find([\"h1\", \"h2\"]) \n",
    "first_header"
   ]
  },
  {
   "cell_type": "code",
   "execution_count": 9,
   "id": "98385e3f-8d3b-467a-9b57-36643c774b33",
   "metadata": {
    "scrolled": true
   },
   "outputs": [
    {
     "name": "stdout",
     "output_type": "stream",
     "text": [
      "<html>\n",
      " <head>\n",
      "  <title>\n",
      "   HTML Example\n",
      "  </title>\n",
      " </head>\n",
      " <body>\n",
      "  <div align=\"middle\">\n",
      "   <h1>\n",
      "    HTML Webpage\n",
      "   </h1>\n",
      "   <p>\n",
      "    Link to more interesting example:\n",
      "    <a href=\"https://keithgalli.github.io/web-scraping/webpage.html\">\n",
      "     keithgalli.github.io/web-scraping/webpage.html\n",
      "    </a>\n",
      "   </p>\n",
      "  </div>\n",
      "  <h2>\n",
      "   A Header\n",
      "  </h2>\n",
      "  <p>\n",
      "   <i>\n",
      "    Some italicized text\n",
      "   </i>\n",
      "  </p>\n",
      "  <h2>\n",
      "   Another header\n",
      "  </h2>\n",
      "  <p id=\"paragraph-id\">\n",
      "   <b>\n",
      "    Some bold text\n",
      "   </b>\n",
      "  </p>\n",
      " </body>\n",
      "</html>\n",
      "\n"
     ]
    }
   ],
   "source": [
    "print(soup.prettify())"
   ]
  },
  {
   "cell_type": "code",
   "execution_count": 18,
   "id": "15629cf4-6faf-4515-9823-1055cc4c4888",
   "metadata": {},
   "outputs": [
    {
     "data": {
      "text/plain": [
       "[<h1>HTML Webpage</h1>, <h2>A Header</h2>, <h2>Another header</h2>]"
      ]
     },
     "execution_count": 18,
     "metadata": {},
     "output_type": "execute_result"
    }
   ],
   "source": [
    "headers = soup.find_all([\"h1\", \"h2\"])\n",
    "headers"
   ]
  },
  {
   "cell_type": "code",
   "execution_count": 20,
   "id": "b51832ce-7cbe-42ce-a9be-db514123eae5",
   "metadata": {},
   "outputs": [
    {
     "data": {
      "text/plain": [
       "[<p id=\"paragraph-id\"><b>Some bold text</b></p>]"
      ]
     },
     "execution_count": 20,
     "metadata": {},
     "output_type": "execute_result"
    }
   ],
   "source": [
    "paragraph = soup.find_all(\"p\", attrs={\"id\": \"paragraph-id\"})\n",
    "paragraph"
   ]
  },
  {
   "cell_type": "code",
   "execution_count": 25,
   "id": "dacb9735-98a5-4184-93c0-fc2a827439b6",
   "metadata": {},
   "outputs": [
    {
     "data": {
      "text/plain": [
       "<h1>HTML Webpage</h1>"
      ]
     },
     "execution_count": 25,
     "metadata": {},
     "output_type": "execute_result"
    }
   ],
   "source": [
    "body = soup.find(\"body\")\n",
    "div = body.find('div')\n",
    "header = div.find('h1')\n",
    "header"
   ]
  },
  {
   "cell_type": "code",
   "execution_count": 37,
   "id": "f53bd9f3-a205-426b-8cd5-8887c42a6fd2",
   "metadata": {},
   "outputs": [
    {
     "data": {
      "text/plain": [
       "[<h2>A Header</h2>, <h2>Another header</h2>]"
      ]
     },
     "execution_count": 37,
     "metadata": {},
     "output_type": "execute_result"
    }
   ],
   "source": [
    "# we can search specific strings in our find/find_all call\n",
    "import re\n",
    "soup.find_all(\"p\", string=(re.compile(\"Some\")))\n",
    "\n",
    "headers = soup.find_all(\"h2\", string=(re.compile(\"(H|h)eader\")))\n",
    "headers"
   ]
  },
  {
   "cell_type": "code",
   "execution_count": 38,
   "id": "52ef7e7a-a9b6-4e79-b378-3b97ffe5defa",
   "metadata": {},
   "outputs": [
    {
     "data": {
      "text/plain": [
       "[<p>Link to more interesting example: <a href=\"https://keithgalli.github.io/web-scraping/webpage.html\">keithgalli.github.io/web-scraping/webpage.html</a></p>]"
      ]
     },
     "execution_count": 38,
     "metadata": {},
     "output_type": "execute_result"
    }
   ],
   "source": [
    "content = soup.select(\"div p\")\n",
    "content"
   ]
  },
  {
   "cell_type": "code",
   "execution_count": 40,
   "id": "eaee3bf5-c40b-4482-9060-186fddeb3875",
   "metadata": {},
   "outputs": [
    {
     "data": {
      "text/plain": [
       "[<p><i>Some italicized text</i></p>,\n",
       " <p id=\"paragraph-id\"><b>Some bold text</b></p>]"
      ]
     },
     "execution_count": 40,
     "metadata": {},
     "output_type": "execute_result"
    }
   ],
   "source": [
    "paragraphs = soup.select(\"h2 ~ p\")\n",
    "paragraphs"
   ]
  },
  {
   "cell_type": "code",
   "execution_count": 42,
   "id": "29511327-52c3-4f8a-8e21-d964d49c320e",
   "metadata": {},
   "outputs": [
    {
     "data": {
      "text/plain": [
       "[<b>Some bold text</b>]"
      ]
     },
     "execution_count": 42,
     "metadata": {},
     "output_type": "execute_result"
    }
   ],
   "source": [
    "bold_text = soup.select(\"p#paragraph-id b\")\n",
    "bold_text"
   ]
  },
  {
   "cell_type": "code",
   "execution_count": 43,
   "id": "f6f8bbe3-3450-4be7-95ec-f718e4f48af1",
   "metadata": {},
   "outputs": [
    {
     "data": {
      "text/plain": [
       "<body>\n",
       "<div align=\"middle\">\n",
       "<h1>HTML Webpage</h1>\n",
       "<p>Link to more interesting example: <a href=\"https://keithgalli.github.io/web-scraping/webpage.html\">keithgalli.github.io/web-scraping/webpage.html</a></p>\n",
       "</div>\n",
       "<h2>A Header</h2>\n",
       "<p><i>Some italicized text</i></p>\n",
       "<h2>Another header</h2>\n",
       "<p id=\"paragraph-id\"><b>Some bold text</b></p>\n",
       "</body>"
      ]
     },
     "execution_count": 43,
     "metadata": {},
     "output_type": "execute_result"
    }
   ],
   "source": [
    "soup.body"
   ]
  },
  {
   "cell_type": "code",
   "execution_count": 44,
   "id": "24d26f7d-9e43-4846-bbf8-3dccf565ad27",
   "metadata": {},
   "outputs": [
    {
     "name": "stdout",
     "output_type": "stream",
     "text": [
      "[<p id=\"paragraph-id\"><b>Some bold text</b></p>]\n",
      "[<i>Some italicized text</i>]\n",
      "[]\n"
     ]
    }
   ],
   "source": [
    "paragraphs = soup.select(\"body > p\")\n",
    "print(paragraph)\n",
    "for paragraph in paragraphs:\n",
    "    print(paragraph.select(\"i\"))"
   ]
  },
  {
   "cell_type": "code",
   "execution_count": 50,
   "id": "48310162-d705-4c2c-b828-e271b662309a",
   "metadata": {},
   "outputs": [
    {
     "name": "stdout",
     "output_type": "stream",
     "text": [
      "<div align=\"middle\">\n",
      " <h1>\n",
      "  HTML Webpage\n",
      " </h1>\n",
      " <p>\n",
      "  Link to more interesting example:\n",
      "  <a href=\"https://keithgalli.github.io/web-scraping/webpage.html\">\n",
      "   keithgalli.github.io/web-scraping/webpage.html\n",
      "  </a>\n",
      " </p>\n",
      "</div>\n",
      "\n",
      "\n",
      "HTML Webpage\n",
      "Link to more interesting example: keithgalli.github.io/web-scraping/webpage.html\n",
      "\n"
     ]
    }
   ],
   "source": [
    "# Getting differint properties of HTML\n",
    "header = soup.find(\"h2\")\n",
    "header.string\n",
    "\n",
    "div = soup.find(\"div\")\n",
    "print(div.prettify())\n",
    "print(div.get_text())"
   ]
  },
  {
   "cell_type": "code",
   "execution_count": 69,
   "id": "8ddbf07e-e26d-4171-8b1d-8c53e121ce72",
   "metadata": {},
   "outputs": [
    {
     "data": {
      "text/plain": [
       "'https://keithgalli.github.io/web-scraping/webpage.html'"
      ]
     },
     "execution_count": 69,
     "metadata": {},
     "output_type": "execute_result"
    }
   ],
   "source": [
    "#GEt a specific element from a property\n",
    "link = soup.find(\"div\")\n",
    "div = soup.find(\"a\")\n",
    "div[\"href\"]"
   ]
  },
  {
   "cell_type": "code",
   "execution_count": 70,
   "id": "60732644-474c-4da7-98c7-9a56cff351c8",
   "metadata": {},
   "outputs": [
    {
     "data": {
      "text/plain": [
       "'HTML Webpage'"
      ]
     },
     "execution_count": 70,
     "metadata": {},
     "output_type": "execute_result"
    }
   ],
   "source": [
    "# path strings\n",
    "soup.body.div.h1.string"
   ]
  },
  {
   "cell_type": "code",
   "execution_count": 71,
   "id": "addf4ed5-c9ae-4c80-a6c3-5b614cffd121",
   "metadata": {},
   "outputs": [
    {
     "name": "stdout",
     "output_type": "stream",
     "text": [
      "<body>\n",
      " <div align=\"middle\">\n",
      "  <h1>\n",
      "   HTML Webpage\n",
      "  </h1>\n",
      "  <p>\n",
      "   Link to more interesting example:\n",
      "   <a href=\"https://keithgalli.github.io/web-scraping/webpage.html\">\n",
      "    keithgalli.github.io/web-scraping/webpage.html\n",
      "   </a>\n",
      "  </p>\n",
      " </div>\n",
      " <h2>\n",
      "  A Header\n",
      " </h2>\n",
      " <p>\n",
      "  <i>\n",
      "   Some italicized text\n",
      "  </i>\n",
      " </p>\n",
      " <h2>\n",
      "  Another header\n",
      " </h2>\n",
      " <p id=\"paragraph-id\">\n",
      "  <b>\n",
      "   Some bold text\n",
      "  </b>\n",
      " </p>\n",
      "</body>\n",
      "\n"
     ]
    }
   ],
   "source": [
    "print(soup.body.prettify())"
   ]
  },
  {
   "cell_type": "code",
   "execution_count": 72,
   "id": "bcc1a0ac-1efe-4ee2-a1de-bf8b81620bd5",
   "metadata": {
    "scrolled": true
   },
   "outputs": [
    {
     "data": {
      "text/plain": [
       "<html><head>\n",
       "<title>Keith Galli's Page</title>\n",
       "<style>\n",
       "  table {\n",
       "    border-collapse: collapse;\n",
       "  }\n",
       "  th {\n",
       "    padding:5px;\n",
       "  }\n",
       "  td {\n",
       "    border: 1px solid #ddd;\n",
       "    padding: 5px;\n",
       "  }\n",
       "  tr:nth-child(even) {\n",
       "    background-color: #f2f2f2;\n",
       "  }\n",
       "  th {\n",
       "    padding-top: 12px;\n",
       "    padding-bottom: 12px;\n",
       "    text-align: left;\n",
       "    background-color: #add8e6;\n",
       "    color: black;\n",
       "  }\n",
       "  .block {\n",
       "  width: 100px;\n",
       "  /*float: left;*/\n",
       "    display: inline-block;\n",
       "    zoom: 1;\n",
       "  }\n",
       "  .column {\n",
       "  float: left;\n",
       "  height: 200px;\n",
       "  /*width: 33.33%;*/\n",
       "  padding: 5px;\n",
       "  }\n",
       "\n",
       "  .row::after {\n",
       "    content: \"\";\n",
       "    clear: both;\n",
       "    display: table;\n",
       "  }\n",
       "</style>\n",
       "</head>\n",
       "<body>\n",
       "<h1>Welcome to my page!</h1>\n",
       "<img src=\"./images/selfie1.jpg\" width=\"300px\"/>\n",
       "<h2>About me</h2>\n",
       "<p>Hi, my name is Keith and I am a YouTuber who focuses on content related to programming, data science, and machine learning!</p>\n",
       "<p>Here is a link to my channel: <a href=\"https://www.youtube.com/kgmit\">youtube.com/kgmit</a></p>\n",
       "<p>I grew up in the great state of New Hampshire here in the USA. From an early age I always loved math. Around my senior year of high school, my brother first introduced me to programming. I found it a creative way to apply the same type of logical thinking skills that I enjoyed with math. This influenced me to study computer science in college and ultimately create a YouTube channel to share some things that I have learned along the way.</p>\n",
       "<h3>Hobbies</h3>\n",
       "<p>Believe it or not, I don't code 24/7. I love doing all sorts of active things. I like to play ice hockey &amp; table tennis as well as run, hike, skateboard, and snowboard. In addition to sports, I am a board game enthusiast. The two that I've been playing the most recently are <i>Settlers of Catan</i> and <i>Othello</i>.</p>\n",
       "<h3>Fun Facts</h3>\n",
       "<ul class=\"fun-facts\">\n",
       "<li>Owned my dream car in high school <a href=\"#footer\"><sup>1</sup></a></li>\n",
       "<li>Middle name is Ronald</li>\n",
       "<li>Never had been on a plane until college</li>\n",
       "<li>Dunkin Donuts coffee is better than Starbucks</li>\n",
       "<li>A favorite book series of mine is <i>Ender's Game</i></li>\n",
       "<li>Current video game of choice is <i>Rocket League</i></li>\n",
       "<li>The band that I've seen the most times live is the <i>Zac Brown Band</i></li>\n",
       "</ul>\n",
       "<h2>Social Media</h2>\n",
       "  I encourage you to check out my content on all social media platforms\n",
       "  <br/>\n",
       "<ul class=\"socials\">\n",
       "<li class=\"social instagram\"><b>Instagram: </b><a href=\"https://www.instagram.com/keithgalli/\">https://www.instagram.com/keithgalli/</a></li>\n",
       "<li class=\"social twitter\"><b>Twitter: </b><a href=\"https://twitter.com/keithgalli\">https://twitter.com/keithgalli</a></li>\n",
       "<li class=\"social linkedin\"><b>LinkedIn: </b><a href=\"https://www.linkedin.com/in/keithgalli/\">https://www.linkedin.com/in/keithgalli/</a></li>\n",
       "<li class=\"social tiktok\"><b>TikTok: </b><a href=\"https://www.tiktok.com/@keithgalli\">https://www.tiktok.com/@keithgalli</a></li>\n",
       "</ul>\n",
       "<h2>Photos</h2>\n",
       "  Here are a few photos from a trip to italy I took last year\n",
       "  <div class=\"row\">\n",
       "<div class=\"column\">\n",
       "<img alt=\"Lake Como\" src=\"images/italy/lake_como.jpg\" style=\"height:100%\"/>\n",
       "</div>\n",
       "<div class=\"column\">\n",
       "<img alt=\"Pontevecchio, Florence\" src=\"images/italy/pontevecchio.jpg\" style=\"height:100%\"/>\n",
       "</div>\n",
       "<div class=\"column\">\n",
       "<img alt=\"Riomaggiore, Cinque de Terre\" src=\"images/italy/riomaggiore.jpg\" style=\"height:100%\"/>\n",
       "</div>\n",
       "</div>\n",
       "<div></div>\n",
       "<h2> Table </h2>\n",
       "  My MIT hockey stats :) \n",
       "  <br/>\n",
       "<table class=\"hockey-stats\">\n",
       "<thead>\n",
       "<tr>\n",
       "<th class=\"season\" data-sort=\"\">S</th>\n",
       "<th class=\"team\" data-sort=\"team\">Team</th>\n",
       "<th class=\"league\" data-sort=\"league\">League</th>\n",
       "<th class=\"regular gp\" data-sort=\"gp\">GP</th>\n",
       "<th class=\"regular g\" data-sort=\"g\">G</th>\n",
       "<th class=\"regular a\" data-sort=\"a\">A</th>\n",
       "<th class=\"regular tp\" data-sort=\"tp\">TP</th>\n",
       "<th class=\"regular pim\" data-sort=\"pim\">PIM</th>\n",
       "<th class=\"regular pm\" data-sort=\"pm\">+/-</th>\n",
       "<th class=\"separator\"> </th>\n",
       "<th class=\"postseason\">POST</th>\n",
       "<th class=\"postseason gp\" data-sort=\"playoffs-gp\">GP</th>\n",
       "<th class=\"postseason g\" data-sort=\"playoffs-g\">G</th>\n",
       "<th class=\"postseason a\" data-sort=\"playoffs-a\">A</th>\n",
       "<th class=\"postseason tp\" data-sort=\"playoffs-tp\">TP</th>\n",
       "<th class=\"postseason pim\" data-sort=\"playoffs-pim\">PIM</th>\n",
       "<th class=\"postseason pm\" data-sort=\"playoffs-pm\">+/-</th>\n",
       "</tr>\n",
       "</thead>\n",
       "<tbody>\n",
       "<tr class=\"team-continent-NA\">\n",
       "<td class=\"season sorted\">\n",
       "                  2014-15\n",
       "              </td>\n",
       "<td class=\"team\">\n",
       "<i><img src=\"images/flag.png\"/></i>\n",
       "<span class=\"txt-blue\">\n",
       "<a href=\"https://www.eliteprospects.com/team/10263/mit-mass.-inst.-of-tech./2014-2015?tab=stats\"> MIT (Mass. Inst. of Tech.) </a>\n",
       "</span>\n",
       "</td>\n",
       "<td class=\"league\"> <a href=\"https://www.eliteprospects.com/league/acha-ii/stats/2014-2015\"> ACHA II </a> </td>\n",
       "<td class=\"regular gp\">17</td>\n",
       "<td class=\"regular g\">3</td>\n",
       "<td class=\"regular a\">9</td>\n",
       "<td class=\"regular tp\">12</td>\n",
       "<td class=\"regular pim\">20</td>\n",
       "<td class=\"regular pm\"></td>\n",
       "<td class=\"separator\"> | </td>\n",
       "<td class=\"postseason\">\n",
       "<a href=\"https://www.eliteprospects.com/league/acha-ii/stats/2014-2015\"> </a>\n",
       "</td>\n",
       "<td class=\"postseason gp\">\n",
       "</td>\n",
       "<td class=\"postseason g\">\n",
       "</td>\n",
       "<td class=\"postseason a\">\n",
       "</td>\n",
       "<td class=\"postseason tp\">\n",
       "</td>\n",
       "<td class=\"postseason pim\">\n",
       "</td>\n",
       "<td class=\"postseason pm\">\n",
       "</td>\n",
       "</tr>\n",
       "<tr class=\"team-continent-NA\">\n",
       "<td class=\"season sorted\">\n",
       "                  2015-16\n",
       "              </td>\n",
       "<td class=\"team\">\n",
       "<i><img src=\"images/flag.png\"/></i>\n",
       "<span class=\"txt-blue\">\n",
       "<a href=\"https://www.eliteprospects.com/team/10263/mit-mass.-inst.-of-tech./2015-2016?tab=stats\"> MIT (Mass. Inst. of Tech.) </a>\n",
       "</span>\n",
       "</td>\n",
       "<td class=\"league\"> <a href=\"https://www.eliteprospects.com/league/acha-ii/stats/2015-2016\"> ACHA II </a> </td>\n",
       "<td class=\"regular gp\">9</td>\n",
       "<td class=\"regular g\">1</td>\n",
       "<td class=\"regular a\">1</td>\n",
       "<td class=\"regular tp\">2</td>\n",
       "<td class=\"regular pim\">2</td>\n",
       "<td class=\"regular pm\"></td>\n",
       "<td class=\"separator\"> | </td>\n",
       "<td class=\"postseason\">\n",
       "<a href=\"https://www.eliteprospects.com/league/acha-ii/stats/2015-2016\"> </a>\n",
       "</td>\n",
       "<td class=\"postseason gp\">\n",
       "</td>\n",
       "<td class=\"postseason g\">\n",
       "</td>\n",
       "<td class=\"postseason a\">\n",
       "</td>\n",
       "<td class=\"postseason tp\">\n",
       "</td>\n",
       "<td class=\"postseason pim\">\n",
       "</td>\n",
       "<td class=\"postseason pm\">\n",
       "</td>\n",
       "</tr>\n",
       "<tr class=\"team-continent-NA\">\n",
       "<td class=\"season sorted\">\n",
       "                  2016-17\n",
       "              </td>\n",
       "<td class=\"team\">\n",
       "<i><img src=\"images/flag.png\"/></i>\n",
       "<span class=\"txt-blue\">\n",
       "<a href=\"https://www.eliteprospects.com/team/10263/mit-mass.-inst.-of-tech./2016-2017?tab=stats\"> MIT (Mass. Inst. of Tech.) </a>\n",
       "</span>\n",
       "</td>\n",
       "<td class=\"league\"> <a href=\"https://www.eliteprospects.com/league/acha-ii/stats/2016-2017\"> ACHA II </a> </td>\n",
       "<td class=\"regular gp\">12</td>\n",
       "<td class=\"regular g\">5</td>\n",
       "<td class=\"regular a\">5</td>\n",
       "<td class=\"regular tp\">10</td>\n",
       "<td class=\"regular pim\">8</td>\n",
       "<td class=\"regular pm\">0</td>\n",
       "<td class=\"separator\"> | </td>\n",
       "<td class=\"postseason\">\n",
       "</td>\n",
       "<td class=\"postseason gp\">\n",
       "</td>\n",
       "<td class=\"postseason g\">\n",
       "</td>\n",
       "<td class=\"postseason a\">\n",
       "</td>\n",
       "<td class=\"postseason tp\">\n",
       "</td>\n",
       "<td class=\"postseason pim\">\n",
       "</td>\n",
       "<td class=\"postseason pm\">\n",
       "</td>\n",
       "</tr>\n",
       "<tr class=\"team-continent-EU\">\n",
       "<td class=\"season sorted\">\n",
       "                  2017-18\n",
       "              </td>\n",
       "<td class=\"team\">\n",
       "                  Did not play\n",
       "              </td>\n",
       "<td class=\"league\"> <a href=\"https://www.eliteprospects.com/stats\"> </a> </td>\n",
       "<td class=\"regular gp\"></td>\n",
       "<td class=\"regular g\"></td>\n",
       "<td class=\"regular a\"></td>\n",
       "<td class=\"regular tp\"></td>\n",
       "<td class=\"regular pim\"></td>\n",
       "<td class=\"regular pm\"></td>\n",
       "<td class=\"separator\"> | </td>\n",
       "<td class=\"postseason\">\n",
       "<a href=\"https://www.eliteprospects.com/stats\"> </a>\n",
       "</td>\n",
       "<td class=\"postseason gp\">\n",
       "</td>\n",
       "<td class=\"postseason g\">\n",
       "</td>\n",
       "<td class=\"postseason a\">\n",
       "</td>\n",
       "<td class=\"postseason tp\">\n",
       "</td>\n",
       "<td class=\"postseason pim\">\n",
       "</td>\n",
       "<td class=\"postseason pm\">\n",
       "</td>\n",
       "</tr>\n",
       "<tr class=\"team-continent-NA\">\n",
       "<td class=\"season sorted\">\n",
       "                  2018-19\n",
       "              </td>\n",
       "<td class=\"team\">\n",
       "<i><img src=\"images/flag.png\"/></i>\n",
       "<span class=\"txt-blue\">\n",
       "<a href=\"https://www.eliteprospects.com/team/10263/mit-mass.-inst.-of-tech./2018-2019?tab=stats\"> MIT (Mass. Inst. of Tech.) </a>\n",
       "</span>\n",
       "</td>\n",
       "<td class=\"league\"> <a href=\"https://www.eliteprospects.com/league/acha-iii/stats/2018-2019\"> ACHA III </a> </td>\n",
       "<td class=\"regular gp\">8</td>\n",
       "<td class=\"regular g\">5</td>\n",
       "<td class=\"regular a\">10</td>\n",
       "<td class=\"regular tp\">15</td>\n",
       "<td class=\"regular pim\">8</td>\n",
       "<td class=\"regular pm\"></td>\n",
       "<td class=\"separator\"> | </td>\n",
       "<td class=\"postseason\">\n",
       "<a href=\"https://www.eliteprospects.com/league/acha-iii/stats/2018-2019\"> </a>\n",
       "</td>\n",
       "<td class=\"postseason gp\">\n",
       "</td>\n",
       "<td class=\"postseason g\">\n",
       "</td>\n",
       "<td class=\"postseason a\">\n",
       "</td>\n",
       "<td class=\"postseason tp\">\n",
       "</td>\n",
       "<td class=\"postseason pim\">\n",
       "</td>\n",
       "<td class=\"postseason pm\">\n",
       "</td>\n",
       "</tr>\n",
       "</tbody>\n",
       "</table>\n",
       "<h2>Mystery Message Challenge!</h2>\n",
       "<p>If you scrape the links below grabbing the &lt;p&gt; tag with id=\"secret-word\", you'll discover a secret message :)</p>\n",
       "<div width=\"50%\">\n",
       "<div align=\"left\" class=\"block\">\n",
       "<ul>\n",
       "<li><a href=\"challenge/file_1.html\">File 1</a></li>\n",
       "<li><a href=\"challenge/file_2.html\">File 2</a></li>\n",
       "<li><a href=\"challenge/file_3.html\">File 3</a></li>\n",
       "<li><a href=\"challenge/file_4.html\">File 4</a></li>\n",
       "<li><a href=\"challenge/file_5.html\">File 5</a></li>\n",
       "</ul>\n",
       "</div>\n",
       "<div align=\"center\" class=\"block\">\n",
       "<ul>\n",
       "<li><a href=\"challenge/file_6.html\">File 6</a></li>\n",
       "<li><a href=\"challenge/file_7.html\">File 7</a></li>\n",
       "<li><a href=\"challenge/file_8.html\">File 8</a></li>\n",
       "<li><a href=\"challenge/file_9.html\">File 9</a></li>\n",
       "<li><a href=\"challenge/file_10.html\">File 10</a></li>\n",
       "</ul>\n",
       "</div>\n",
       "</div>\n",
       "<h2>Footnotes</h2>\n",
       "<p id=\"footer\">1. This was actually a minivan that I named Debora. Maybe not my dream car, but I loved her nonetheless.</p>\n",
       "</body>\n",
       "</html>"
      ]
     },
     "execution_count": 72,
     "metadata": {},
     "output_type": "execute_result"
    }
   ],
   "source": [
    "#Task 1\n",
    "r = requests.get(\"https://keithgalli.github.io/web-scraping/webpage.html\")\n",
    "\n",
    "soup = bs(r.content)\n",
    "\n",
    "soup"
   ]
  },
  {
   "cell_type": "code",
   "execution_count": null,
   "id": "e8954d63-e597-4d3f-a855-1b00647eb499",
   "metadata": {},
   "outputs": [],
   "source": []
  }
 ],
 "metadata": {
  "kernelspec": {
   "display_name": "Python 3 (ipykernel)",
   "language": "python",
   "name": "python3"
  },
  "language_info": {
   "codemirror_mode": {
    "name": "ipython",
    "version": 3
   },
   "file_extension": ".py",
   "mimetype": "text/x-python",
   "name": "python",
   "nbconvert_exporter": "python",
   "pygments_lexer": "ipython3",
   "version": "3.12.2"
  }
 },
 "nbformat": 4,
 "nbformat_minor": 5
}
